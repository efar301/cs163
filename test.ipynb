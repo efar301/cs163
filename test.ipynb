{
 "cells": [
  {
   "cell_type": "code",
   "execution_count": 7,
   "id": "8596efa4",
   "metadata": {},
   "outputs": [
    {
     "name": "stdout",
     "output_type": "stream",
     "text": [
      "torch.Size([3, 1000, 1000]) torch.Size([3, 500, 500])\n"
     ]
    }
   ],
   "source": [
    "from data.image_pair_dataset import Paired_Dataset\n",
    "from torchvision.transforms import transforms\n",
    "\n",
    "\n",
    "data_dirs = ['./training_data/DIV2K_train_HR', './training_data/Flickr2K']\n",
    "data = Paired_Dataset(image_directories=data_dirs, scale=2, patch_size=(500, 500))\n",
    "\n",
    "hr, lr = data[470]\n",
    "print(hr.shape, lr.shape)\n",
    "\n",
    "to_pil = transforms.ToPILImage()\n",
    "\n",
    "to_pil(hr).show()\n",
    "to_pil(lr).show()"
   ]
  },
  {
   "cell_type": "code",
   "execution_count": 4,
   "id": "a0aa8374",
   "metadata": {},
   "outputs": [
    {
     "name": "stdout",
     "output_type": "stream",
     "text": [
      "torch.Size([1, 3, 100, 100]) torch.Size([1, 3, 400, 400])\n",
      "torch.Size([3, 100, 100]) torch.Size([3, 400, 400])\n"
     ]
    }
   ],
   "source": [
    "from data.get_loader import get_loader\n",
    "from torchvision.transforms import transforms\n",
    "\n",
    "data_dirs = ['./training_data/DIV2K_train_HR', './training_data/Flickr2K']\n",
    "prefetcher = get_loader(image_directories=data_dirs,\n",
    "                        scale=4,\n",
    "                        patch_size=(100, 100),\n",
    "                        batch_size=1,\n",
    "                        device=None,\n",
    "                        num_workers=2,\n",
    "                        pin_memory=False)\n",
    "\n",
    "\n",
    "batch = prefetcher.next()\n",
    "lr, hr = batch\n",
    "print(lr.shape, hr.shape)\n",
    "lr = lr.squeeze(0)\n",
    "hr = hr.squeeze(0)\n",
    "print(lr.shape, hr.shape)\n",
    "\n",
    "to_pil = transforms.ToPILImage()\n",
    "\n",
    "to_pil(hr).show()\n",
    "to_pil(lr).show()"
   ]
  },
  {
   "cell_type": "code",
   "execution_count": 14,
   "id": "7285df23",
   "metadata": {},
   "outputs": [
    {
     "name": "stdout",
     "output_type": "stream",
     "text": [
      "config loaded successfully\n"
     ]
    },
    {
     "data": {
      "text/html": [
       "Finishing previous runs because reinit is set to 'default'."
      ],
      "text/plain": [
       "<IPython.core.display.HTML object>"
      ]
     },
     "metadata": {},
     "output_type": "display_data"
    },
    {
     "name": "stderr",
     "output_type": "stream",
     "text": [
      "\u001b[34m\u001b[1mwandb\u001b[0m: \u001b[32m\u001b[41mERROR\u001b[0m The nbformat package was not found. It is required to save notebook history.\n"
     ]
    },
    {
     "data": {
      "text/html": [],
      "text/plain": [
       "<IPython.core.display.HTML object>"
      ]
     },
     "metadata": {},
     "output_type": "display_data"
    },
    {
     "data": {
      "text/html": [
       "<br>    <style><br>        .wandb-row {<br>            display: flex;<br>            flex-direction: row;<br>            flex-wrap: wrap;<br>            justify-content: flex-start;<br>            width: 100%;<br>        }<br>        .wandb-col {<br>            display: flex;<br>            flex-direction: column;<br>            flex-basis: 100%;<br>            flex: 1;<br>            padding: 10px;<br>        }<br>    </style><br><div class=\"wandb-row\"><div class=\"wandb-col\"><h3>Run history:</h3><br/><table class=\"wandb\"><tr><td>loss</td><td>▇▅█▇▅▅▅▆▄▅▂▃▃▅▅█▆▁▄▅▆▄▄▅▆▆▇▆▄▆▃▄▃▄▃▅▃▅▆▃</td></tr><tr><td>lr</td><td>▁▁▁▁▁▁▁▁▁▁▁▁▁▁▁▁▁▁▁▁▁▁▁▁▁▁▁▁▁▁▁▁▁▁▁▁▁▁▁▁</td></tr></table><br/></div><div class=\"wandb-col\"><h3>Run summary:</h3><br/><table class=\"wandb\"><tr><td>loss</td><td>0.01793</td></tr><tr><td>lr</td><td>0.001</td></tr></table><br/></div></div>"
      ],
      "text/plain": [
       "<IPython.core.display.HTML object>"
      ]
     },
     "metadata": {},
     "output_type": "display_data"
    },
    {
     "data": {
      "text/html": [
       " View run <strong style=\"color:#cdcd00\">serene-fog-16</strong> at: <a href='https://wandb.ai/farns301/cs163/runs/imo78iph' target=\"_blank\">https://wandb.ai/farns301/cs163/runs/imo78iph</a><br> View project at: <a href='https://wandb.ai/farns301/cs163' target=\"_blank\">https://wandb.ai/farns301/cs163</a><br>Synced 5 W&B file(s), 0 media file(s), 0 artifact file(s) and 0 other file(s)"
      ],
      "text/plain": [
       "<IPython.core.display.HTML object>"
      ]
     },
     "metadata": {},
     "output_type": "display_data"
    },
    {
     "data": {
      "text/html": [
       "Find logs at: <code>./wandb/run-20250923_183849-imo78iph/logs</code>"
      ],
      "text/plain": [
       "<IPython.core.display.HTML object>"
      ]
     },
     "metadata": {},
     "output_type": "display_data"
    },
    {
     "data": {
      "text/html": [],
      "text/plain": [
       "<IPython.core.display.HTML object>"
      ]
     },
     "metadata": {},
     "output_type": "display_data"
    },
    {
     "data": {
      "text/html": [
       "Tracking run with wandb version 0.21.4"
      ],
      "text/plain": [
       "<IPython.core.display.HTML object>"
      ]
     },
     "metadata": {},
     "output_type": "display_data"
    },
    {
     "data": {
      "text/html": [
       "Run data is saved locally in <code>/Users/farns/General/git_repos/cs163/wandb/run-20250923_185950-6biq1jbl</code>"
      ],
      "text/plain": [
       "<IPython.core.display.HTML object>"
      ]
     },
     "metadata": {},
     "output_type": "display_data"
    },
    {
     "data": {
      "text/html": [
       "Syncing run <strong><a href='https://wandb.ai/farns301/cs163/runs/6biq1jbl' target=\"_blank\">dutiful-tree-17</a></strong> to <a href='https://wandb.ai/farns301/cs163' target=\"_blank\">Weights & Biases</a> (<a href='https://wandb.me/developer-guide' target=\"_blank\">docs</a>)<br>"
      ],
      "text/plain": [
       "<IPython.core.display.HTML object>"
      ]
     },
     "metadata": {},
     "output_type": "display_data"
    },
    {
     "data": {
      "text/html": [
       " View project at <a href='https://wandb.ai/farns301/cs163' target=\"_blank\">https://wandb.ai/farns301/cs163</a>"
      ],
      "text/plain": [
       "<IPython.core.display.HTML object>"
      ]
     },
     "metadata": {},
     "output_type": "display_data"
    },
    {
     "data": {
      "text/html": [
       " View run at <a href='https://wandb.ai/farns301/cs163/runs/6biq1jbl' target=\"_blank\">https://wandb.ai/farns301/cs163/runs/6biq1jbl</a>"
      ],
      "text/plain": [
       "<IPython.core.display.HTML object>"
      ]
     },
     "metadata": {},
     "output_type": "display_data"
    },
    {
     "name": "stdout",
     "output_type": "stream",
     "text": [
      "model has 304140 trainable parameters\n",
      "training on mps\n"
     ]
    },
    {
     "name": "stderr",
     "output_type": "stream",
     "text": [
      "Epoch 11/20: 100%|██████████| 108/108 [01:10<00:00,  1.54it/s, loss=0.0248, lr=0.0010]\n",
      "Epoch 12/20: 100%|██████████| 108/108 [01:12<00:00,  1.48it/s, loss=0.0137, lr=0.0010]\n",
      "Epoch 13/20: 100%|██████████| 108/108 [01:13<00:00,  1.46it/s, loss=0.0211, lr=0.0010]\n",
      "Epoch 14/20: 100%|██████████| 108/108 [01:16<00:00,  1.41it/s, loss=0.0192, lr=0.0010]\n",
      "Epoch 15/20: 100%|██████████| 108/108 [01:16<00:00,  1.40it/s, loss=0.0205, lr=0.0010]\n",
      "Epoch 16/20: 100%|██████████| 108/108 [01:19<00:00,  1.35it/s, loss=0.0283, lr=0.0010]\n",
      "Epoch 17/20: 100%|██████████| 108/108 [01:18<00:00,  1.37it/s, loss=0.0221, lr=0.0010]\n",
      "Epoch 18/20: 100%|██████████| 108/108 [01:22<00:00,  1.32it/s, loss=0.0226, lr=0.0010]\n",
      "Epoch 19/20: 100%|██████████| 108/108 [01:24<00:00,  1.27it/s, loss=0.0156, lr=0.0010]\n",
      "Epoch 20/20: 100%|██████████| 108/108 [01:23<00:00,  1.29it/s, loss=0.0191, lr=0.0010]\n"
     ]
    }
   ],
   "source": [
    "from train.trainer import Trainer\n",
    "\n",
    "trainer = Trainer('train_yamls/RWVKSR_2X.yaml')\n",
    "trainer.train()"
   ]
  },
  {
   "cell_type": "code",
   "execution_count": 16,
   "id": "c7156690",
   "metadata": {},
   "outputs": [
    {
     "name": "stdout",
     "output_type": "stream",
     "text": [
      "epoch evaluated: 15\n"
     ]
    }
   ],
   "source": [
    "import torch\n",
    "from torchvision.transforms import v2 as T\n",
    "from torchvision.io import read_image\n",
    "from arch.model import RWKVSR\n",
    "\n",
    "state_dict = torch.load('checkpoints/2X_RWKVSR/epoch_15.pt')\n",
    "epoch = state_dict['epoch']\n",
    "model = RWKVSR(2, 3, 64, 4)\n",
    "model.load_state_dict(state_dict['model_state_dict'])\n",
    "model.eval()\n",
    "\n",
    "img = read_image('training_data/test.png')\n",
    "img = T.ToDtype(torch.float32, scale=True)(img)\n",
    "\n",
    "pred = model(img)\n",
    "pred = torch.clamp(pred, 0, 1)\n",
    "\n",
    "to_pil = T.ToPILImage()\n",
    "final = to_pil(pred)\n",
    "final.save(f'test_outputs/epoch_{epoch}.png')\n",
    "\n",
    "print(f'epoch evaluated: {epoch}')\n"
   ]
  }
 ],
 "metadata": {
  "kernelspec": {
   "display_name": "pytorch",
   "language": "python",
   "name": "python3"
  },
  "language_info": {
   "codemirror_mode": {
    "name": "ipython",
    "version": 3
   },
   "file_extension": ".py",
   "mimetype": "text/x-python",
   "name": "python",
   "nbconvert_exporter": "python",
   "pygments_lexer": "ipython3",
   "version": "3.12.11"
  }
 },
 "nbformat": 4,
 "nbformat_minor": 5
}
