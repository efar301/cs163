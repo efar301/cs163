{
 "cells": [
  {
   "cell_type": "code",
   "execution_count": 1,
   "id": "8596efa4",
   "metadata": {},
   "outputs": [
    {
     "name": "stdout",
     "output_type": "stream",
     "text": [
      "torch.Size([3, 1000, 1000]) torch.Size([3, 500, 500])\n"
     ]
    }
   ],
   "source": [
    "from data.image_pair_dataset import Paired_Dataset\n",
    "from torchvision.transforms import transforms\n",
    "\n",
    "\n",
    "data_dirs = ['./training_data/DIV2K_train_HR', './training_data/Flickr2K']\n",
    "data = Paired_Dataset(image_directories=data_dirs, scale=2, patch_size=(500, 500))\n",
    "\n",
    "hr, lr = data[470]\n",
    "print(hr.shape, lr.shape)\n",
    "\n",
    "to_pil = transforms.ToPILImage()\n",
    "\n",
    "to_pil(hr).show()\n",
    "to_pil(lr).show()"
   ]
  },
  {
   "cell_type": "code",
   "execution_count": 2,
   "id": "a0aa8374",
   "metadata": {},
   "outputs": [
    {
     "name": "stdout",
     "output_type": "stream",
     "text": [
      "torch.Size([1, 3, 100, 100]) torch.Size([1, 3, 400, 400])\n",
      "torch.Size([3, 100, 100]) torch.Size([3, 400, 400])\n"
     ]
    }
   ],
   "source": [
    "from data.get_loader import get_loader\n",
    "from torchvision.transforms import transforms\n",
    "\n",
    "data_dirs = ['./training_data/DIV2K_train_HR', './training_data/Flickr2K']\n",
    "prefetcher = get_loader(image_directories=data_dirs,\n",
    "                        scale=4,\n",
    "                        patch_size=(100, 100),\n",
    "                        batch_size=1,\n",
    "                        device=None,\n",
    "                        num_workers=2,\n",
    "                        pin_memory=False)\n",
    "\n",
    "\n",
    "batch = prefetcher.next()\n",
    "lr, hr = batch\n",
    "print(lr.shape, hr.shape)\n",
    "lr = lr.squeeze(0)\n",
    "hr = hr.squeeze(0)\n",
    "print(lr.shape, hr.shape)\n",
    "\n",
    "to_pil = transforms.ToPILImage()\n",
    "\n",
    "to_pil(hr).show()\n",
    "to_pil(lr).show()"
   ]
  },
  {
   "cell_type": "code",
   "execution_count": 2,
   "id": "7285df23",
   "metadata": {},
   "outputs": [],
   "source": [
    "# from train.trainer import Trainer\n",
    "\n",
    "# trainer = Trainer('train_yamls/RWVKSR_2X.yaml')\n",
    "# # trainer.train()"
   ]
  }
 ],
 "metadata": {
  "kernelspec": {
   "display_name": "pytorch",
   "language": "python",
   "name": "python3"
  },
  "language_info": {
   "codemirror_mode": {
    "name": "ipython",
    "version": 3
   },
   "file_extension": ".py",
   "mimetype": "text/x-python",
   "name": "python",
   "nbconvert_exporter": "python",
   "pygments_lexer": "ipython3",
   "version": "3.11.13"
  }
 },
 "nbformat": 4,
 "nbformat_minor": 5
}
