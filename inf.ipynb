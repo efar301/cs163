{
 "cells": [
  {
   "cell_type": "code",
   "execution_count": 8,
   "id": "3ef3fcb9",
   "metadata": {},
   "outputs": [
    {
     "name": "stderr",
     "output_type": "stream",
     "text": [
      "C:\\Users\\farns\\AppData\\Local\\Temp\\ipykernel_28552\\4114737758.py:6: FutureWarning: You are using `torch.load` with `weights_only=False` (the current default value), which uses the default pickle module implicitly. It is possible to construct malicious pickle data which will execute arbitrary code during unpickling (See https://github.com/pytorch/pytorch/blob/main/SECURITY.md#untrusted-models for more details). In a future release, the default value for `weights_only` will be flipped to `True`. This limits the functions that could be executed during unpickling. Arbitrary objects will no longer be allowed to be loaded via this mode unless they are explicitly allowlisted by the user via `torch.serialization.add_safe_globals`. We recommend you start setting `weights_only=True` for any use case where you don't have full control of the loaded file. Please open an issue on GitHub for any issues related to this experimental feature.\n",
      "  state_dict = torch.load('checkpoints/2X_RWKVSR/epoch_60.pt')\n"
     ]
    },
    {
     "name": "stdout",
     "output_type": "stream",
     "text": [
      "torch.Size([1, 3, 346, 512])\n",
      "epoch evaluated: 60\n"
     ]
    }
   ],
   "source": [
    "import torch\n",
    "from torchvision.transforms import v2 as T\n",
    "from torchvision.io import read_image\n",
    "from arch.model import RWKVSR\n",
    "\n",
    "state_dict = torch.load('checkpoints/2X_RWKVSR/epoch_60.pt')\n",
    "epoch = state_dict['epoch']\n",
    "model = RWKVSR(2, 3, 64, 16)\n",
    "model.load_state_dict(state_dict['model_state_dict'])\n",
    "model.eval()\n",
    "\n",
    "img = read_image('training_data/test.png')\n",
    "img = T.ToDtype(torch.float32, scale=True)(img)\n",
    "\n",
    "pred = model(img)\n",
    "\n",
    "print(pred.shape)\n",
    "\n",
    "to_pil = T.ToPILImage()\n",
    "final = to_pil(pred.squeeze(0))\n",
    "final.save(f'test_outputs/epoch_{epoch}.png')\n",
    "\n",
    "print(f'epoch evaluated: {epoch}')\n"
   ]
  }
 ],
 "metadata": {
  "kernelspec": {
   "display_name": "pytorch",
   "language": "python",
   "name": "python3"
  },
  "language_info": {
   "codemirror_mode": {
    "name": "ipython",
    "version": 3
   },
   "file_extension": ".py",
   "mimetype": "text/x-python",
   "name": "python",
   "nbconvert_exporter": "python",
   "pygments_lexer": "ipython3",
   "version": "3.11.13"
  }
 },
 "nbformat": 4,
 "nbformat_minor": 5
}
